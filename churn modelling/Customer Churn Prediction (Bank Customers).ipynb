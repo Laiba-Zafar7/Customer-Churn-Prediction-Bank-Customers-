{
 "cells": [
  {
   "cell_type": "markdown",
   "id": "9e886b13-be61-43c7-bea0-f7f4714722b4",
   "metadata": {},
   "source": [
    "# Customer Churn Prediction — Bank Customers (Churn Modelling Dataset)\n",
    "\n",
    "This notebook walks you end-to-end:\n",
    "1. Load & inspect data  \n",
    "2. Clean & prepare features  \n",
    "3. Encode categorical variables (Geography, Gender)  \n",
    "4. Train & evaluate classifiers (Logistic Regression, Random Forest)  \n",
    "5. Analyze feature importance\n",
    "6. Export a ready model with a reusable inference pipeline\n",
    "\n",
    "> **Dataset**: Use `Churn_Modelling.csv` (commonly available on Kaggle). Place it in the same folder as this notebook."
   ]
  },
  {
   "cell_type": "markdown",
   "id": "a9ba5bb3-858b-47a5-98af-a591cae4213f",
   "metadata": {},
   "source": [
    "## 0. Setup"
   ]
  },
  {
   "cell_type": "code",
   "execution_count": 3,
   "id": "da4b0e30-6fd9-4b70-8047-15ac35b02259",
   "metadata": {},
   "outputs": [
    {
     "name": "stdout",
     "output_type": "stream",
     "text": [
      "Libraries loaded.\n"
     ]
    }
   ],
   "source": [
    "\n",
    "# Core\n",
    "import pandas as pd\n",
    "import numpy as np\n",
    "\n",
    "# Modeling\n",
    "from sklearn.model_selection import train_test_split, GridSearchCV\n",
    "from sklearn.compose import ColumnTransformer\n",
    "from sklearn.preprocessing import OneHotEncoder, StandardScaler\n",
    "from sklearn.pipeline import Pipeline\n",
    "from sklearn.metrics import (\n",
    "    accuracy_score, precision_score, recall_score, f1_score, roc_auc_score,\n",
    "    classification_report, confusion_matrix, RocCurveDisplay\n",
    ")\n",
    "from sklearn.linear_model import LogisticRegression\n",
    "from sklearn.ensemble import RandomForestClassifier\n",
    "\n",
    "# Plotting\n",
    "import matplotlib.pyplot as plt\n",
    "\n",
    "# Utility\n",
    "import warnings\n",
    "warnings.filterwarnings('ignore')\n",
    "pd.set_option('display.max_columns', 100)\n",
    "\n",
    "print('Libraries loaded.')\n"
   ]
  },
  {
   "cell_type": "markdown",
   "id": "b086d47d-7b44-47b1-9e5f-56b1c40d2b53",
   "metadata": {},
   "source": [
    "## 1. Load & Quick Explore"
   ]
  },
  {
   "cell_type": "code",
   "execution_count": 5,
   "id": "218d887f-0025-41a4-9335-08783077c9e0",
   "metadata": {},
   "outputs": [
    {
     "name": "stdout",
     "output_type": "stream",
     "text": [
      "Shape: (10000, 14)\n"
     ]
    },
    {
     "data": {
      "text/html": [
       "<div>\n",
       "<style scoped>\n",
       "    .dataframe tbody tr th:only-of-type {\n",
       "        vertical-align: middle;\n",
       "    }\n",
       "\n",
       "    .dataframe tbody tr th {\n",
       "        vertical-align: top;\n",
       "    }\n",
       "\n",
       "    .dataframe thead th {\n",
       "        text-align: right;\n",
       "    }\n",
       "</style>\n",
       "<table border=\"1\" class=\"dataframe\">\n",
       "  <thead>\n",
       "    <tr style=\"text-align: right;\">\n",
       "      <th></th>\n",
       "      <th>RowNumber</th>\n",
       "      <th>CustomerId</th>\n",
       "      <th>Surname</th>\n",
       "      <th>CreditScore</th>\n",
       "      <th>Geography</th>\n",
       "      <th>Gender</th>\n",
       "      <th>Age</th>\n",
       "      <th>Tenure</th>\n",
       "      <th>Balance</th>\n",
       "      <th>NumOfProducts</th>\n",
       "      <th>HasCrCard</th>\n",
       "      <th>IsActiveMember</th>\n",
       "      <th>EstimatedSalary</th>\n",
       "      <th>Exited</th>\n",
       "    </tr>\n",
       "  </thead>\n",
       "  <tbody>\n",
       "    <tr>\n",
       "      <th>0</th>\n",
       "      <td>1</td>\n",
       "      <td>15634602</td>\n",
       "      <td>Hargrave</td>\n",
       "      <td>619</td>\n",
       "      <td>France</td>\n",
       "      <td>Female</td>\n",
       "      <td>42</td>\n",
       "      <td>2</td>\n",
       "      <td>0.00</td>\n",
       "      <td>1</td>\n",
       "      <td>1</td>\n",
       "      <td>1</td>\n",
       "      <td>101348.88</td>\n",
       "      <td>1</td>\n",
       "    </tr>\n",
       "    <tr>\n",
       "      <th>1</th>\n",
       "      <td>2</td>\n",
       "      <td>15647311</td>\n",
       "      <td>Hill</td>\n",
       "      <td>608</td>\n",
       "      <td>Spain</td>\n",
       "      <td>Female</td>\n",
       "      <td>41</td>\n",
       "      <td>1</td>\n",
       "      <td>83807.86</td>\n",
       "      <td>1</td>\n",
       "      <td>0</td>\n",
       "      <td>1</td>\n",
       "      <td>112542.58</td>\n",
       "      <td>0</td>\n",
       "    </tr>\n",
       "    <tr>\n",
       "      <th>2</th>\n",
       "      <td>3</td>\n",
       "      <td>15619304</td>\n",
       "      <td>Onio</td>\n",
       "      <td>502</td>\n",
       "      <td>France</td>\n",
       "      <td>Female</td>\n",
       "      <td>42</td>\n",
       "      <td>8</td>\n",
       "      <td>159660.80</td>\n",
       "      <td>3</td>\n",
       "      <td>1</td>\n",
       "      <td>0</td>\n",
       "      <td>113931.57</td>\n",
       "      <td>1</td>\n",
       "    </tr>\n",
       "    <tr>\n",
       "      <th>3</th>\n",
       "      <td>4</td>\n",
       "      <td>15701354</td>\n",
       "      <td>Boni</td>\n",
       "      <td>699</td>\n",
       "      <td>France</td>\n",
       "      <td>Female</td>\n",
       "      <td>39</td>\n",
       "      <td>1</td>\n",
       "      <td>0.00</td>\n",
       "      <td>2</td>\n",
       "      <td>0</td>\n",
       "      <td>0</td>\n",
       "      <td>93826.63</td>\n",
       "      <td>0</td>\n",
       "    </tr>\n",
       "    <tr>\n",
       "      <th>4</th>\n",
       "      <td>5</td>\n",
       "      <td>15737888</td>\n",
       "      <td>Mitchell</td>\n",
       "      <td>850</td>\n",
       "      <td>Spain</td>\n",
       "      <td>Female</td>\n",
       "      <td>43</td>\n",
       "      <td>2</td>\n",
       "      <td>125510.82</td>\n",
       "      <td>1</td>\n",
       "      <td>1</td>\n",
       "      <td>1</td>\n",
       "      <td>79084.10</td>\n",
       "      <td>0</td>\n",
       "    </tr>\n",
       "  </tbody>\n",
       "</table>\n",
       "</div>"
      ],
      "text/plain": [
       "   RowNumber  CustomerId   Surname  CreditScore Geography  Gender  Age  \\\n",
       "0          1    15634602  Hargrave          619    France  Female   42   \n",
       "1          2    15647311      Hill          608     Spain  Female   41   \n",
       "2          3    15619304      Onio          502    France  Female   42   \n",
       "3          4    15701354      Boni          699    France  Female   39   \n",
       "4          5    15737888  Mitchell          850     Spain  Female   43   \n",
       "\n",
       "   Tenure    Balance  NumOfProducts  HasCrCard  IsActiveMember  \\\n",
       "0       2       0.00              1          1               1   \n",
       "1       1   83807.86              1          0               1   \n",
       "2       8  159660.80              3          1               0   \n",
       "3       1       0.00              2          0               0   \n",
       "4       2  125510.82              1          1               1   \n",
       "\n",
       "   EstimatedSalary  Exited  \n",
       "0        101348.88       1  \n",
       "1        112542.58       0  \n",
       "2        113931.57       1  \n",
       "3         93826.63       0  \n",
       "4         79084.10       0  "
      ]
     },
     "metadata": {},
     "output_type": "display_data"
    },
    {
     "data": {
      "text/html": [
       "<div>\n",
       "<style scoped>\n",
       "    .dataframe tbody tr th:only-of-type {\n",
       "        vertical-align: middle;\n",
       "    }\n",
       "\n",
       "    .dataframe tbody tr th {\n",
       "        vertical-align: top;\n",
       "    }\n",
       "\n",
       "    .dataframe thead th {\n",
       "        text-align: right;\n",
       "    }\n",
       "</style>\n",
       "<table border=\"1\" class=\"dataframe\">\n",
       "  <thead>\n",
       "    <tr style=\"text-align: right;\">\n",
       "      <th></th>\n",
       "      <th>RowNumber</th>\n",
       "      <th>CustomerId</th>\n",
       "      <th>Surname</th>\n",
       "      <th>CreditScore</th>\n",
       "      <th>Geography</th>\n",
       "      <th>Gender</th>\n",
       "      <th>Age</th>\n",
       "      <th>Tenure</th>\n",
       "      <th>Balance</th>\n",
       "      <th>NumOfProducts</th>\n",
       "      <th>HasCrCard</th>\n",
       "      <th>IsActiveMember</th>\n",
       "      <th>EstimatedSalary</th>\n",
       "      <th>Exited</th>\n",
       "    </tr>\n",
       "  </thead>\n",
       "  <tbody>\n",
       "    <tr>\n",
       "      <th>9998</th>\n",
       "      <td>9999</td>\n",
       "      <td>15682355</td>\n",
       "      <td>Sabbatini</td>\n",
       "      <td>772</td>\n",
       "      <td>Germany</td>\n",
       "      <td>Male</td>\n",
       "      <td>42</td>\n",
       "      <td>3</td>\n",
       "      <td>75075.31</td>\n",
       "      <td>2</td>\n",
       "      <td>1</td>\n",
       "      <td>0</td>\n",
       "      <td>92888.52</td>\n",
       "      <td>1</td>\n",
       "    </tr>\n",
       "    <tr>\n",
       "      <th>9999</th>\n",
       "      <td>10000</td>\n",
       "      <td>15628319</td>\n",
       "      <td>Walker</td>\n",
       "      <td>792</td>\n",
       "      <td>France</td>\n",
       "      <td>Female</td>\n",
       "      <td>28</td>\n",
       "      <td>4</td>\n",
       "      <td>130142.79</td>\n",
       "      <td>1</td>\n",
       "      <td>1</td>\n",
       "      <td>0</td>\n",
       "      <td>38190.78</td>\n",
       "      <td>0</td>\n",
       "    </tr>\n",
       "  </tbody>\n",
       "</table>\n",
       "</div>"
      ],
      "text/plain": [
       "      RowNumber  CustomerId    Surname  CreditScore Geography  Gender  Age  \\\n",
       "9998       9999    15682355  Sabbatini          772   Germany    Male   42   \n",
       "9999      10000    15628319     Walker          792    France  Female   28   \n",
       "\n",
       "      Tenure    Balance  NumOfProducts  HasCrCard  IsActiveMember  \\\n",
       "9998       3   75075.31              2          1               0   \n",
       "9999       4  130142.79              1          1               0   \n",
       "\n",
       "      EstimatedSalary  Exited  \n",
       "9998         92888.52       1  \n",
       "9999         38190.78       0  "
      ]
     },
     "metadata": {},
     "output_type": "display_data"
    },
    {
     "name": "stdout",
     "output_type": "stream",
     "text": [
      "<class 'pandas.core.frame.DataFrame'>\n",
      "RangeIndex: 10000 entries, 0 to 9999\n",
      "Data columns (total 14 columns):\n",
      " #   Column           Non-Null Count  Dtype  \n",
      "---  ------           --------------  -----  \n",
      " 0   RowNumber        10000 non-null  int64  \n",
      " 1   CustomerId       10000 non-null  int64  \n",
      " 2   Surname          10000 non-null  object \n",
      " 3   CreditScore      10000 non-null  int64  \n",
      " 4   Geography        10000 non-null  object \n",
      " 5   Gender           10000 non-null  object \n",
      " 6   Age              10000 non-null  int64  \n",
      " 7   Tenure           10000 non-null  int64  \n",
      " 8   Balance          10000 non-null  float64\n",
      " 9   NumOfProducts    10000 non-null  int64  \n",
      " 10  HasCrCard        10000 non-null  int64  \n",
      " 11  IsActiveMember   10000 non-null  int64  \n",
      " 12  EstimatedSalary  10000 non-null  float64\n",
      " 13  Exited           10000 non-null  int64  \n",
      "dtypes: float64(2), int64(9), object(3)\n",
      "memory usage: 1.1+ MB\n"
     ]
    },
    {
     "data": {
      "text/plain": [
       "None"
      ]
     },
     "metadata": {},
     "output_type": "display_data"
    },
    {
     "data": {
      "text/plain": [
       "RowNumber          0\n",
       "CustomerId         0\n",
       "Surname            0\n",
       "CreditScore        0\n",
       "Geography          0\n",
       "Gender             0\n",
       "Age                0\n",
       "Tenure             0\n",
       "Balance            0\n",
       "NumOfProducts      0\n",
       "HasCrCard          0\n",
       "IsActiveMember     0\n",
       "EstimatedSalary    0\n",
       "Exited             0\n",
       "dtype: int64"
      ]
     },
     "metadata": {},
     "output_type": "display_data"
    }
   ],
   "source": [
    "# --- Update path if needed ---\n",
    "DATA_PATH = 'Churn_Modelling.csv'\n",
    "\n",
    "df_raw = pd.read_csv(DATA_PATH)\n",
    "df = df_raw.copy()\n",
    "\n",
    "print('Shape:', df.shape)\n",
    "display(df.head())\n",
    "display(df.tail(2))\n",
    "display(df.info())\n",
    "display(df.isnull().sum())"
   ]
  },
  {
   "cell_type": "code",
   "execution_count": 6,
   "id": "c5243188-4584-461f-b466-6ef8335d6f1d",
   "metadata": {},
   "outputs": [
    {
     "name": "stdout",
     "output_type": "stream",
     "text": [
      "Categorical: ['Geography', 'Gender']\n",
      "Numeric: ['CreditScore', 'Age', 'Tenure', 'Balance', 'NumOfProducts', 'HasCrCard', 'IsActiveMember', 'EstimatedSalary']\n"
     ]
    }
   ],
   "source": [
    "# Drop uninformative identifiers\n",
    "drop_cols = ['RowNumber', 'CustomerId', 'Surname']\n",
    "df = df.drop(columns=drop_cols, errors='ignore')\n",
    "\n",
    "# Sanity checks\n",
    "assert 'Exited' in df.columns, \"Target column 'Exited' not found. Check the dataset.\"\n",
    "\n",
    "# Separate target and features\n",
    "X = df.drop(columns=['Exited'])\n",
    "y = df['Exited']\n",
    "\n",
    "# Identify column types\n",
    "categorical_cols = ['Geography', 'Gender']\n",
    "numeric_cols = [c for c in X.columns if c not in categorical_cols]\n",
    "\n",
    "print('Categorical:', categorical_cols)\n",
    "print('Numeric:', numeric_cols)"
   ]
  },
  {
   "cell_type": "markdown",
   "id": "8c14e6e6-77f5-4376-943c-a851795c5a96",
   "metadata": {},
   "source": [
    "## 3. Train / Test Split"
   ]
  },
  {
   "cell_type": "code",
   "execution_count": 7,
   "id": "02808ed1-62ed-4b60-9658-27f1800a055e",
   "metadata": {},
   "outputs": [
    {
     "name": "stdout",
     "output_type": "stream",
     "text": [
      "Train: (8000, 10)  Test: (2000, 10)\n",
      "Churn rate (train): 0.2037  Churn rate (test): 0.2035\n"
     ]
    }
   ],
   "source": [
    "X_train, X_test, y_train, y_test = train_test_split(\n",
    "    X, y, test_size=0.2, random_state=42, stratify=y\n",
    ")\n",
    "print('Train:', X_train.shape, ' Test:', X_test.shape)\n",
    "print('Churn rate (train):', y_train.mean().round(4), ' Churn rate (test):', y_test.mean().round(4))"
   ]
  },
  {
   "cell_type": "markdown",
   "id": "920219b4-ddfc-460d-80e2-718511cb9063",
   "metadata": {},
   "source": [
    "## 4. Preprocessing & Encoders"
   ]
  },
  {
   "cell_type": "code",
   "execution_count": 8,
   "id": "d4723ab7-75c1-472e-a8ed-5dc450b4c773",
   "metadata": {},
   "outputs": [
    {
     "name": "stdout",
     "output_type": "stream",
     "text": [
      "Preprocessors ready.\n"
     ]
    }
   ],
   "source": [
    "\n",
    "# Categorical: OneHotEncode Geography & Gender\n",
    "# Numeric: Keep as-is; scale for linear models\n",
    "categorical_transformer = OneHotEncoder(handle_unknown='ignore', drop='first')\n",
    "\n",
    "numeric_transformer_for_linear = StandardScaler(with_mean=False)\n",
    "numeric_transformer_for_tree = 'passthrough'  # Trees don't need scaling\n",
    "\n",
    "# ColumnTransformers for two families of models\n",
    "preprocess_linear = ColumnTransformer(\n",
    "    transformers=[\n",
    "        ('cat', categorical_transformer, categorical_cols),\n",
    "        ('num', numeric_transformer_for_linear, numeric_cols)\n",
    "    ],\n",
    "    remainder='drop'\n",
    ")\n",
    "\n",
    "preprocess_tree = ColumnTransformer(\n",
    "    transformers=[\n",
    "        ('cat', categorical_transformer, categorical_cols),\n",
    "        ('num', numeric_transformer_for_tree, numeric_cols)\n",
    "    ],\n",
    "    remainder='drop'\n",
    ")\n",
    "print('Preprocessors ready.')\n"
   ]
  },
  {
   "cell_type": "markdown",
   "id": "07566154-cbbe-4d95-b497-56f1f616bc4b",
   "metadata": {},
   "source": [
    "## 5. Train Baseline Models"
   ]
  },
  {
   "cell_type": "code",
   "execution_count": 10,
   "id": "a5b14a7a-b773-42a7-bdce-274ca171dca9",
   "metadata": {},
   "outputs": [
    {
     "name": "stdout",
     "output_type": "stream",
     "text": [
      "\n",
      "=== LogisticRegression ===\n",
      "Accuracy: 0.7135\n",
      "Precision: 0.3872\n",
      "Recall: 0.7002\n",
      "F1 Score: 0.4987\n",
      "ROC AUC: 0.7772\n"
     ]
    }
   ],
   "source": [
    "\n",
    "import numpy as np\n",
    "from sklearn.metrics import accuracy_score, precision_score, recall_score, f1_score, roc_auc_score\n",
    "\n",
    "proba = pipe.predict_proba(X_test)[:, 1]\n",
    "print(f'\\n=== {name} ===')\n",
    "print('Accuracy:', round(accuracy_score(y_test, preds), 4))\n",
    "print('Precision:', round(precision_score(y_test, preds), 4))\n",
    "print('Recall:', round(recall_score(y_test, preds), 4))\n",
    "print('F1 Score:', round(f1_score(y_test, preds), 4))\n",
    "print('ROC AUC:', round(roc_auc_score(y_test, proba), 4))\n"
   ]
  },
  {
   "cell_type": "markdown",
   "id": "f825a7f9-a7dd-4207-bc91-d41dc0ec029d",
   "metadata": {},
   "source": [
    "### Confusion Matrix & ROC Curve (Best Model)"
   ]
  },
  {
   "cell_type": "code",
   "execution_count": 12,
   "id": "773d7915-c07c-4f13-82de-359d2c76a52e",
   "metadata": {},
   "outputs": [
    {
     "name": "stdout",
     "output_type": "stream",
     "text": [
      "\n",
      "=== LogisticRegression ===\n",
      "Accuracy : 0.7135\n",
      "Precision: 0.3872\n",
      "Recall   : 0.7002\n",
      "F1 Score : 0.4987\n",
      "ROC AUC  : 0.7772\n",
      "\n",
      "=== RandomForest ===\n",
      "Accuracy : 0.864\n",
      "Precision: 0.7848\n",
      "Recall   : 0.457\n",
      "F1 Score : 0.5776\n",
      "ROC AUC  : 0.8575\n",
      "\n",
      "Best Model: RandomForest with ROC AUC = 0.8575\n"
     ]
    }
   ],
   "source": [
    "from sklearn.metrics import accuracy_score, precision_score, recall_score, f1_score, roc_auc_score\n",
    "\n",
    "scores = {}\n",
    "\n",
    "for name, pipe in models.items():\n",
    "    # Fit the model\n",
    "    pipe.fit(X_train, y_train)\n",
    "    \n",
    "    # Predictions\n",
    "    preds = pipe.predict(X_test)\n",
    "    proba = pipe.predict_proba(X_test)[:, 1]\n",
    "    \n",
    "    # Calculate metrics\n",
    "    acc = round(accuracy_score(y_test, preds), 4)\n",
    "    prec = round(precision_score(y_test, preds), 4)\n",
    "    rec = round(recall_score(y_test, preds), 4)\n",
    "    f1 = round(f1_score(y_test, preds), 4)\n",
    "    auc = round(roc_auc_score(y_test, proba), 4)\n",
    "    \n",
    "    # Save AUC score for model comparison\n",
    "    scores[name] = auc\n",
    "    \n",
    "    # Print results\n",
    "    print(f\"\\n=== {name} ===\")\n",
    "    print(f\"Accuracy : {acc}\")\n",
    "    print(f\"Precision: {prec}\")\n",
    "    print(f\"Recall   : {rec}\")\n",
    "    print(f\"F1 Score : {f1}\")\n",
    "    print(f\"ROC AUC  : {auc}\")\n",
    "\n",
    "# Best model selection\n",
    "best_name = max(scores, key=scores.get)\n",
    "print(f\"\\nBest Model: {best_name} with ROC AUC = {scores[best_name]}\")\n"
   ]
  },
  {
   "cell_type": "markdown",
   "id": "c9adc4b2-052b-43de-9531-4ec8166a231e",
   "metadata": {},
   "source": [
    "## 6. Feature Importance"
   ]
  },
  {
   "cell_type": "code",
   "execution_count": 14,
   "id": "226f81cf-a8e7-4274-a76e-de4e758e00d8",
   "metadata": {},
   "outputs": [
    {
     "name": "stdout",
     "output_type": "stream",
     "text": [
      "\n",
      "=== LogisticRegression ===\n",
      "Accuracy : 0.7135\n",
      "Precision: 0.3872\n",
      "Recall   : 0.7002\n",
      "F1 Score : 0.4987\n",
      "ROC AUC  : 0.7772\n",
      "\n",
      "=== RandomForest ===\n",
      "Accuracy : 0.864\n",
      "Precision: 0.7848\n",
      "Recall   : 0.457\n",
      "F1 Score : 0.5776\n",
      "ROC AUC  : 0.8575\n",
      "\n",
      "Best Model: RandomForest with ROC AUC = 0.8575\n"
     ]
    }
   ],
   "source": [
    "from sklearn.metrics import accuracy_score, precision_score, recall_score, f1_score, roc_auc_score\n",
    "\n",
    "scores = {}\n",
    "fitted_models = {}  # store fitted models here\n",
    "\n",
    "for name, pipe in models.items():\n",
    "    # Fit\n",
    "    pipe.fit(X_train, y_train)\n",
    "    fitted_models[name] = pipe  # save the trained model\n",
    "    \n",
    "    # Predictions\n",
    "    preds = pipe.predict(X_test)\n",
    "    proba = pipe.predict_proba(X_test)[:, 1]\n",
    "    \n",
    "    # Metrics\n",
    "    acc = round(accuracy_score(y_test, preds), 4)\n",
    "    prec = round(precision_score(y_test, preds), 4)\n",
    "    rec = round(recall_score(y_test, preds), 4)\n",
    "    f1 = round(f1_score(y_test, preds), 4)\n",
    "    auc = round(roc_auc_score(y_test, proba), 4)\n",
    "    \n",
    "    scores[name] = auc\n",
    "    \n",
    "    print(f\"\\n=== {name} ===\")\n",
    "    print(f\"Accuracy : {acc}\")\n",
    "    print(f\"Precision: {prec}\")\n",
    "    print(f\"Recall   : {rec}\")\n",
    "    print(f\"F1 Score : {f1}\")\n",
    "    print(f\"ROC AUC  : {auc}\")\n",
    "\n",
    "# Pick best\n",
    "best_name = max(scores, key=scores.get)\n",
    "best_model = fitted_models[best_name]  # store the fitted best model\n",
    "print(f\"\\nBest Model: {best_name} with ROC AUC = {scores[best_name]}\")\n"
   ]
  },
  {
   "cell_type": "markdown",
   "id": "b4c57784-7749-4e38-aa5d-f0b9c70522ff",
   "metadata": {},
   "source": [
    "## 7. Export Trained Pipeline"
   ]
  },
  {
   "cell_type": "code",
   "execution_count": 15,
   "id": "4b2bd610-7770-4a34-babe-83a10e0fdd02",
   "metadata": {},
   "outputs": [
    {
     "name": "stdout",
     "output_type": "stream",
     "text": [
      "Saved: churn_pipeline.joblib\n"
     ]
    }
   ],
   "source": [
    "import joblib\n",
    "\n",
    "FINAL_MODEL_PATH = 'churn_pipeline.joblib'\n",
    "joblib.dump(best_model, FINAL_MODEL_PATH)\n",
    "print('Saved:', FINAL_MODEL_PATH)\n"
   ]
  },
  {
   "cell_type": "markdown",
   "id": "731660f3-e728-4593-a997-416b61c0c75f",
   "metadata": {},
   "source": [
    "## 8. Inference Example"
   ]
  },
  {
   "cell_type": "code",
   "execution_count": 16,
   "id": "d2454b0f-731c-43b5-8688-fe8f39715cf0",
   "metadata": {},
   "outputs": [
    {
     "name": "stdout",
     "output_type": "stream",
     "text": [
      "Predicted churn probability: 0.453  ->  Class: 0\n"
     ]
    }
   ],
   "source": [
    "# Example: predict churn probability for a single (or few) customers.\n",
    "# Note: Use original feature names BEFORE preprocessing.\n",
    "\n",
    "example = pd.DataFrame([{\n",
    "    'CreditScore': 650,\n",
    "    'Geography': 'Germany',\n",
    "    'Gender': 'Female',\n",
    "    'Age': 40,\n",
    "    'Tenure': 3,\n",
    "    'Balance': 120000.0,\n",
    "    'NumOfProducts': 1,\n",
    "    'HasCrCard': 1,\n",
    "    'IsActiveMember': 0,\n",
    "    'EstimatedSalary': 75000.0\n",
    "}])\n",
    "\n",
    "prob = best_model.predict_proba(example)[:,1][0]\n",
    "pred = int(prob >= 0.5)\n",
    "print(f'Predicted churn probability: {prob:.3f}  ->  Class: {pred}')\n"
   ]
  },
  {
   "cell_type": "code",
   "execution_count": null,
   "id": "29d82ed2-ee27-4a34-a94d-124d93d21f43",
   "metadata": {},
   "outputs": [],
   "source": []
  }
 ],
 "metadata": {
  "kernelspec": {
   "display_name": "Python [conda env:base] *",
   "language": "python",
   "name": "conda-base-py"
  },
  "language_info": {
   "codemirror_mode": {
    "name": "ipython",
    "version": 3
   },
   "file_extension": ".py",
   "mimetype": "text/x-python",
   "name": "python",
   "nbconvert_exporter": "python",
   "pygments_lexer": "ipython3",
   "version": "3.13.5"
  }
 },
 "nbformat": 4,
 "nbformat_minor": 5
}
